{
 "cells": [
  {
   "attachments": {},
   "cell_type": "markdown",
   "metadata": {},
   "source": [
    "# Function:  NETD -  Noise Equivelant Temperature Difference "
   ]
  },
  {
   "attachments": {
    "NETD6.png": {
     "image/png": "[encoded data removed]"
    }
   },
   "cell_type": "markdown",
   "metadata": {},
   "source": [
    "![NETD6.png](attachment:NETD6.png)"
   ]
  },
  {
   "cell_type": "code",
   "execution_count": 1,
   "metadata": {},
   "outputs": [
    {
     "data": {
      "application/vnd.jupyter.widget-view+json": {
       "model_id": "3c9974bcef864fd2b6fb2524e6f1ff9a",
       "version_major": 2,
       "version_minor": 0
      },
      "text/plain": [
       "HTML(value=\"<br><p style='font-size:12pt'><b> Wavelenght should correspond to median of band corresponding fro…"
      ]
     },
     "metadata": {},
     "output_type": "display_data"
    },
    {
     "data": {
      "application/vnd.jupyter.widget-view+json": {
       "model_id": "90ae53fa571d4ed5b2b9549068b326c5",
       "version_major": 2,
       "version_minor": 0
      },
      "text/plain": [
       "interactive(children=(FloatText(value=4.0, description='Wavelenght (um)', style=DescriptionStyle(description_w…"
      ]
     },
     "metadata": {},
     "output_type": "display_data"
    },
    {
     "data": {
      "text/plain": [
       "<function __main__.plot_func(wvl, FNO, Tint, Pitch, PhotoC, DarkC, RFNe, Tran, Temp)>"
      ]
     },
     "execution_count": 1,
     "metadata": {},
     "output_type": "execute_result"
    }
   ],
   "source": [
    "#NETD    Version 20    18-Oct-2022\n",
    "%matplotlib inline\n",
    "from ipywidgets import interact, Layout, widgets\n",
    "import numpy as np\n",
    "import matplotlib.pyplot as plt\n",
    "\n",
    " ## NETD Background etc.\n",
    "\n",
    "Header = widgets.HTML(value = \"<br><p style='font-size:12pt'><b> Wavelenght should correspond to median of band corresponding from the associated calculations</b></p>\")\n",
    "display(Header)\n",
    "\n",
    "#constants\n",
    "c=2.9979e8 #m/sec\n",
    "c1=3.7418e4 #watt-um^4/cm^2\n",
    "c2=1.4388e4 #um-K\n",
    "h=6.6e-34 # m2 kg / s  plancks constant\n",
    "q=1.6e-19 #coulomg charge of e\n",
    "\n",
    "#primary calculations and plotting\n",
    "def plot_func(wvl,FNO,Tint,Pitch,PhotoC,DarkC,RFNe,Tran,Temp):\n",
    " \n",
    "    QE=1.0\n",
    "    \n",
    "    #planck derivative \n",
    "    wvlm = wvl*1e-6\n",
    "    t1 = np.exp(c2/(wvl*Temp))  #unitless - temporary constant for eqn below\n",
    "    #print((wvl*Temp),c2,(c2/(wvl*Temp)),'t1=',t1)\n",
    "    t2= c1/wvl**5\n",
    "    t3= (1/(t1 - 1))\n",
    "    M = t2*t3 # Watt/(cm^2 - um) M 5.11  pg126\n",
    "    L=M/np.pi\n",
    "    PLDR2 = (L*c2*t1)/(wvl*(Temp**2)*(t1 - 1)) #planck function deriviative Holst yello textbook 3.46 pg55 \n",
    "    #print('L= ',L, '  PLDR= ', PLDR2)\n",
    "    \n",
    "    \n",
    "    #Noise electrons\n",
    "    #RFNe = ROIC fixed noise is a given input\n",
    "    PNe = np.sqrt((PhotoC*Tint)/q)  # Photon Shot Noise\n",
    "    DNe = np.sqrt((DarkC*Tint)/q)  # Dark Current Noise\n",
    "    TNe = np.sqrt((DNe**2 + PNe**2 + RFNe**2)) #add noise in quadrature - Dark Noise e + photon/flux noise e + ROIC fixed noise floor\n",
    "    #print( \"ShotNe =\" ,\"{:.1f}\".format(FLNe),\"DarkNE - \",\"{:.1f}\".format(DNe), \"TotalNe = \",\"{:.1f}\".format(TNe))\n",
    "    \n",
    "    #DSTAR calc\n",
    "    P1 = (PhotoC*Tint)/q  #photocurrent times integration time / q = #photoelectrons\n",
    "    #print (\"photo electrons\",P1)\n",
    "    SNR = P1/TNe #photoelectrons / total noise electrons\n",
    "    Power = (h*c/wvlm)*(P1/Tint) #energy per photons in on Tint, and divide by integration time for constant flux source\n",
    "    NEP = Power/SNR\n",
    "    NEI = TNe/(QE*Tint*(Pitch*1e-4)**2)\n",
    "    DSTAR2 = (Pitch * 1e-4 * np.sqrt(1/(2*Tint)))/NEP  # cm-Hz^1/2 per Watt  D* eqn 8.24 2nd edition\n",
    "    print(\"SNR=\", \"{:.2e}\".format(SNR), \"D*=\", \"{:.2e}\".format(DSTAR2),\"(cm-Hz^1/2)/W\", \"NEI=\",\"{:.2e}\".format(NEI),\"Photon/Sec-cm^2\")\n",
    "        \n",
    "    #NETD calc\n",
    "    num =(FNO**2)*np.sqrt(1/(2*Tint))   #numerator\n",
    "    #den = Tran*Pitch*0.0001*DSTAR*PLDR2  #denominator\n",
    "    den2 = Tran*Pitch*1e-4*DSTAR2*PLDR2  #denominator\n",
    "    NETD2 = (4*num)/(np.pi*den2)  #NETD formula 14.17 in 2nd edition\n",
    " \n",
    "    #print('PLDR = ',\"{:.3e}\".format(PLDR2), 'D* =',\"{:.2e}\".format(DSTAR2),'NEI=',\"{:.2e}\".format(NEI))\n",
    "    print('Noise Equivelant Temperature Difference (NETD) = ',\"{:.2f}\".format(1000*NETD2),\"mK\")      \n",
    "\n",
    "    numpts = 20\n",
    "    templow = Temp*0.9\n",
    "    temphigh = Temp*1.1\n",
    "    step = (temphigh - templow)/numpts\n",
    "    Templist = np.arange(templow,temphigh,step)\n",
    "    t1list = []\n",
    "    t3list = []\n",
    "    Llist =[]\n",
    "    PLDRlist = []\n",
    "    denlist = []\n",
    "    NETDlist = []\n",
    "    cnt=0\n",
    "    for i in Templist:\n",
    "        t1list.append(np.exp(c2/(wvl*Templist[cnt])))\n",
    "        #t2= c1/wvl**5\n",
    "        t3list.append((1/(t1list[cnt] - 1)))\n",
    "        Llist.append(t3list[cnt]*t2/np.pi)\n",
    "        PLDRlist.append((Llist[cnt]*c2*t1list[cnt])/(wvl*(Templist[cnt]**2)*(t1list[cnt] - 1)))\n",
    "        denlist.append(Tran*Pitch*0.0001*DSTAR2*PLDRlist[cnt])\n",
    "        NETDlist.append((4*num)/(np.pi*denlist[cnt]))\n",
    "        cnt+=1\n",
    "    \n",
    "    #plotting\n",
    "    plt.style.use('classic')\n",
    "    plt.figure(figsize=(12,7))\n",
    "    plt.plot(Templist,NETDlist,'b')\n",
    "    plt.plot(Templist,NETDlist,'*b')\n",
    "    plt.title('Noise Equivelant Temperature Difference')\n",
    "    plt.xticks(np.arange(templow, temphigh, 4*step))\n",
    "    plt.grid(True)\n",
    "    plt.xlabel('Temperature Kelvin')\n",
    "    plt.ylabel('NETD (K)')\n",
    "    plt.axis([templow,temphigh-step,0.5*min(NETDlist),1.1*max(NETDlist)])\n",
    "    \n",
    "    #make a vertical line\n",
    "    vlinex = np.repeat(Temp, 3)\n",
    "    vliney = [0,NETD2,10*NETD2]\n",
    "    plt.plot (vlinex,vliney,'k:', linewidth = 2)\n",
    "    plt.text(Temp, 0.6*min(NETDlist),\"  \" + str(int(Temp)) + \"K\",color='Black')\n",
    "    #make a horiz line\n",
    "    hliney = np.repeat(NETD2, 3)\n",
    "    hlinex = [templow/2,Temp,10*Temp]\n",
    "    plt.plot (hlinex,hliney,'k:', linewidth = 2)\n",
    "    plt.text(templow, 1.05*NETD2,\"  \" + str(int(1000*NETD2)) +\"mK\",color='Black')\n",
    "    \n",
    "# Description width style\n",
    "style1 = {'description_width': 'initial'} \n",
    "        \n",
    "interact(plot_func, \n",
    "         wvl = widgets.FloatText(value=4.0, description = 'Wavelenght (um)',style=style1),\n",
    "         FNO = widgets.FloatText(value=2.0, description = 'Focal Ratio (f/#)',style=style1),  \n",
    "         Tint = widgets.FloatText(value=3e-3, description = 'Tint (sec)',style=style1),\n",
    "         Pitch = widgets.FloatText(value=20, description = 'Pixel Pitch (um))',style=style1),\n",
    "         PhotoC = widgets.FloatText(value=2.0e-10, description = 'Photo Current (A)',style=style1),\n",
    "         DarkC = widgets.FloatText(value=2.7e-12, description = 'Dark Current (A)',style=style1),\n",
    "         RFNe = widgets.FloatText(value=600, description = 'ROIC Fixed Noise electrons (#)',style=style1),\n",
    "         #DNNe = widgets.FloatText(value=2000, description = 'Downstream Noise electrons (#)',style=style1),\n",
    "         #QE = widgets.FloatText(value=0.8, description = 'Quantum Efficiency (%)',style=style1),\n",
    "         #DSTAR = widgets.FloatText(value=5e10, description = 'D*',style=style1),\n",
    "         #PLDR = widgets.FloatText(value=6.3e-5, description = 'Plank Derivative',style=style1),\n",
    "         Tran = widgets.FloatText(value=.8, description = 'Transmission',style=style1),\n",
    "         Temp = widgets.FloatText(value=300, description = 'Temperature (K)',style=style1),\n",
    "         #Flux = widgets.FloatText(value=1.7e9, description = 'Flux (Ph/sec)',style=style1),\n",
    "        )\n"
   ]
  },
  {
   "cell_type": "code",
   "execution_count": null,
   "metadata": {},
   "outputs": [],
   "source": []
  }
 ],
 "metadata": {
  "kernelspec": {
   "display_name": "Python 3 (ipykernel)",
   "language": "python",
   "name": "python3"
  },
  "language_info": {
   "codemirror_mode": {
    "name": "ipython",
    "version": 3
   },
   "file_extension": ".py",
   "mimetype": "text/x-python",
   "name": "python",
   "nbconvert_exporter": "python",
   "pygments_lexer": "ipython3",
   "version": "3.11.5"
  }
 },
 "nbformat": 4,
 "nbformat_minor": 2
}
