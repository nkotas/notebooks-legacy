{
 "cells": [
  {
   "attachments": {},
   "cell_type": "markdown",
   "metadata": {},
   "source": [
    "## Function: Photo-current vs dark current of IR Detectors "
   ]
  },
  {
   "cell_type": "markdown",
   "metadata": {},
   "source": [
    "<img src=\"Rule22.png\" width=\"500\">"
   ]
  },
  {
   "cell_type": "code",
   "execution_count": 1,
   "metadata": {
    "scrolled": false
   },
   "outputs": [
    {
     "data": {
      "application/vnd.jupyter.widget-view+json": {
       "model_id": "ddeae5d56a2d4f1eadcfcf3a31f2d678",
       "version_major": 2,
       "version_minor": 0
      },
      "text/plain": [
       "HTML(value=\"<br><p style='font-size:16pt'><b> Rule 22 </b></p><b><i> Rule-22: An update to Rule-07 </b></i> (J…"
      ]
     },
     "metadata": {},
     "output_type": "display_data"
    },
    {
     "data": {
      "application/vnd.jupyter.widget-view+json": {
       "model_id": "9c6b74c2cfec4021bf37fcb54bf2f8cc",
       "version_major": 2,
       "version_minor": 0
      },
      "text/plain": [
       "HTML(value=\"<p style='font-size:16pt'><b>Set Parameters</b></p>\")"
      ]
     },
     "metadata": {},
     "output_type": "display_data"
    },
    {
     "data": {
      "application/vnd.jupyter.widget-view+json": {
       "model_id": "5eedd70d7c8a4a3690afc7cfd13911d2",
       "version_major": 2,
       "version_minor": 0
      },
      "text/plain": [
       "interactive(children=(FloatText(value=2.0, description='Band cut-on $\\\\lambda_{\\\\rm 1}$ (um)', step=0.25, styl…"
      ]
     },
     "metadata": {},
     "output_type": "display_data"
    },
    {
     "data": {
      "text/plain": [
       "<function __main__.plot_func(WL1, WL2, Flux, pitch, ScaleFactor1, ScaleFactor2, QE, OperT)>"
      ]
     },
     "execution_count": 1,
     "metadata": {},
     "output_type": "execute_result"
    }
   ],
   "source": [
    "# Evaluate photo-current vs dark current of IR Detectors based on incoming photon flux, QE and Rule-22 dark current. \n",
    "#Rule 07 Version 20 18-Oct-2022\n",
    "#Converted from \"Rule 07\" algorithm to \"Rule 22\" algorithm by Nicholas Kotas v.2 1-Apr-2025\n",
    "#Rule 22 Version 2 1-Apr-2025\n",
    "#%matplotlib widget\n",
    "#%matplotlib inline\n",
    "import numpy as np\n",
    "import math\n",
    "import scipy.special as sp\n",
    "import matplotlib.pyplot as plt\n",
    "import matplotlib.gridspec as gridspec\n",
    "from ipywidgets import *\n",
    "\n",
    "\n",
    "# Constants\n",
    "q = 1.602e-19 # [C], Elementary charge\n",
    "kB = 1.38e-23 # [J/K], Boltzmann's constant\n",
    "\n",
    "# Empirical parameters from Rule-22: An update to Rule-07: Journal of ELECTRONIC MATERIALS, Vol. 52, No. 11, 2023\n",
    "\n",
    "Pwr = 0.544071281108481\n",
    "C = -1.04\n",
    "WLscale = 0.200847413564122 #[um] \n",
    "WLthreshold = 0 #[um]\n",
    "\n",
    "#from IPython.display import Image\n",
    "#display(Image('Rule07-revisited.png',width = 300, height = 200))\n",
    "\n",
    "#import matplotlib.image as mpimg\n",
    "#img = mpimg.imread('Rule22.png')\n",
    "#imgplot = plt.imshow(img)\n",
    "#plt.axis('off') \n",
    "\n",
    "Rule22Title=widgets.HTML(value = \"<br><p style='font-size:16pt'><b> Rule 22 </b></p>\"\n",
    "                         \"<b><i> Rule-22: An update to Rule-07 </b></i>\" \" (Journal of ELECTRONIC MATERIALS, Vol. 52, No. 11, 2023) is the best empirical prediction of IR detectors' dark current.\"\n",
    "                         \" It works very well for the HgCdTe detector technology.\"\n",
    "                         \" The dark current of other detector technologies (InSb, InAsSb, superlattices) will have an adjustment factor (tunable in this calculator) from the Rule 07.</b></p>\"\n",
    "                         \"e.g. adjustment factor of Type II superlattice can be smaller or greater than 1, depending on SRH-lifetime (Journal of ELECTRONIC MATERIALS, Vol. 38, No. 8, 2009).<br>\"   \n",
    "                        )\n",
    "\n",
    "display(Rule22Title)\n",
    "\n",
    "# Calculation parameters\n",
    "Temp = np.linspace(1,330,2991) # [K], Temperature\n",
    "Temp1 = np.ones(Temp.shape) # Ones vector of size(Temp)\n",
    "\n",
    "## \"Set Parameters\" section heading\n",
    "SetParamHdg = widgets.HTML(value = \"<p style='font-size:16pt'><b>Set Parameters</b></p>\")\n",
    "display(SetParamHdg)\n",
    "\n",
    "\n",
    "def plot_func(WL1, WL2, Flux, pitch, ScaleFactor1, ScaleFactor2, QE, OperT):\n",
    "   \n",
    "    # Oper is the target operating temperature\n",
    "    # WL1 is band cut-on wavelength\n",
    "    # WL2 is band cut-off wavelength, assuming the detector's cut-off wavelength is the same as the band cut-off\n",
    "    # Flux is the integrated photon flux coming to the detector in the WL1 - WL2 wave band [ph/s]\n",
    "    \n",
    "    skip = False # skip plot if inputs are not in bounds\n",
    "    if WL2 < WLthreshold :\n",
    "        WL2 = WLthreshold + 0.1\n",
    "        print (\"Wavelength 2 needs to be >= 4.6um\")\n",
    "        skip = True\n",
    "    elif WL1 <= 0:\n",
    "        skip = True\n",
    "    elif WL2 <= 0:\n",
    "        skip = True\n",
    "    elif Flux <=0:\n",
    "        skip = True\n",
    "    elif pitch <=0:\n",
    "        skip = True\n",
    " \n",
    "    if skip == True:\n",
    "        print ('invalid inputs')\n",
    "    else:\n",
    "        # Calculating Photo Current and Photo Current Density\n",
    "        Isig=Flux*QE*q*Temp1\n",
    "        Jsig=Isig/(pitch*1e-4)**2\n",
    "\n",
    "        # Calculating Dark Current and Dark Current Density\n",
    "\n",
    "        if WL2>=WLthreshold:\n",
    "            WLe=WL2\n",
    "        else:\n",
    "            WLe=WL2/(1-(WLscale/WL2-WLscale/WLthreshold)^Pwr)\n",
    "            \n",
    "        J0 = 1*10**7*(WLe)**-6.2 + 70*(WLe)**(1.08)\n",
    "\n",
    "        Jdark=(J0*(ScaleFactor1*np.exp(C*1.24*q/(kB*WLe*Temp))\n",
    "                    + ScaleFactor2*(2*10**-10*np.exp(-0.39*1.24*q/(kB*WLe*Temp))))\n",
    "                    + 1.5*10**-21*WLe**2*Temp)\n",
    "        Idark=Jdark*(pitch*1e-4)**2\n",
    "        \n",
    "        Jdark_no_scalefactor=(J0*(np.exp(C*1.24*q/(kB*WLe*Temp))\n",
    "                    + (2*10**-10*np.exp(-0.39*1.24*q/(kB*WLe*Temp))))\n",
    "                    + 1.5*10**-21*WLe**2*Temp)\n",
    "        \n",
    "        JdarkOper=(J0*(ScaleFactor1*np.exp(C*1.24*q/(kB*WLe*OperT))\n",
    "                    + ScaleFactor2*(2*10**-10*np.exp(-0.39*1.24*q/(kB*WLe*OperT))))\n",
    "                    + 1.5*10**-21*WLe**2*OperT)\n",
    "        IdarkOper=JdarkOper*(pitch*1e-4)**2\n",
    "\n",
    "        TBLIP=C*1.24*q/(kB*WLe*np.log(Jsig/(J0*ScaleFactor1)))\n",
    "        MaxBLIP=C*1.24*q/(kB*WLe*np.log(Jsig/(J0*ScaleFactor1)/(QE)))\n",
    "\n",
    "        JdarkOperd =  \"{:.4e}\".format(JdarkOper)\n",
    "        IdarkOperd =  \"{:.4e}\".format(IdarkOper)\n",
    "        Jsigd = \"{:.4e}\".format(Jsig[0])\n",
    "        Isigd = \"{:.4e}\".format(Isig[0])\n",
    "\n",
    "             ## \"Calculated Results\" section heading and text results\n",
    "        CalcResults = widgets.HTML(value = \"<br><p style='font-size:16pt'><b>Calculated Results:</b></p>\"\n",
    "            \"<b>Photo Current Density: </b>\" + str(Jsigd) + \" A/cm^2    <b>              Photo Current: </b>\" + str(Isigd) + \" A<br>  \"\n",
    "\n",
    "            \"<b>Dark Current Density at </b>\" +str(OperT)+\"K <b> is </b>\" + str(JdarkOperd) + \" A/cm^2 <b>  Dark Current at </b>\" +str(OperT)+\"K <b> is </b>\" + str(IdarkOperd) + \" A<br>\"\n",
    "\n",
    "            \"<b>Detector BLIP Temperature: </b>\" + str(round(TBLIP[0],2)) + \" K  <b>                  Max BLIP Temperature: </b>\" + str(round(MaxBLIP[0],2)) + \" K<br> \"\n",
    "            )\n",
    "        display(CalcResults) \n",
    "\n",
    "        #ok\n",
    "        # Plotting\n",
    "        plt.style.use('classic')\n",
    "        fig=plt.figure(figsize=(14,7));\n",
    "        gs = gridspec.GridSpec(1, 2,width_ratios=[1.5,1])\n",
    "        ax1=plt.subplot(gs[1])\n",
    "        plt.grid(True)\n",
    "        ax1.plot ( 1000/Temp, Jdark,':r', linewidth=4, label='Dark Current')\n",
    "        ax1.plot ( 1000/Temp, Jdark_no_scalefactor, 'g', label='Dark Current for Scale Factor = 1')\n",
    "        ax1.plot ( 1000/Temp, Jdark,'r')\n",
    "        ax1.plot ( 1000/Temp, Jsig, 'b', label='Photo Current')\n",
    "        plt.yscale('log')\n",
    "        plt.axis([1000/max(Temp),1000/10,1e-20,1])\n",
    "        plt.xlabel('1000/Temperature [1/K]')\n",
    "        plt.ylabel('Current Density [A/cm2]')\n",
    "        plt.text(1000/OperT, JdarkOper, \"<\" ,color='grey',fontsize=12, va='center')\n",
    "        plt.legend(prop={'size': 10})\n",
    "    \n",
    "        plt.style.use('dark_background')\n",
    "        ax2=plt.subplot(gs[0])\n",
    "        ax2.plot ( Temp, Jdark,':', color='red',linewidth=5)\n",
    "        ax2.plot ( Temp, Jdark,'r',linewidth=3,label='Dark Current')\n",
    "        ax2.plot ( Temp, Jsig, color='royalblue', linewidth=2.5, label='Photo Current')\n",
    "        plt.text(260, 1.4*Jsig[0], \"Photo\" ,color='royalblue',fontsize=14)\n",
    "    \n",
    "        #cross hair lines  .\n",
    "        vlinex = np.repeat(OperT,3)\n",
    "        vliney = [1e-16, 1e-8, 1e-0 ]\n",
    "        hlinex = [25, 250, 400]\n",
    "        hliney = np.repeat(JdarkOper,3)\n",
    "        plt.plot (vlinex,vliney,'--',color='grey',linewidth=2) \n",
    "        #plt.text(OperT+3, 2e-15, \"OperTemp= \" + str(OperT),color='magenta',fontsize=15)\n",
    "\n",
    "        if JdarkOper > Jsig[0]: \n",
    "            plt.text(260, 1.4*JdarkOper, \"Dark!\" ,color='red',fontsize=15)\n",
    "            plt.plot (hlinex,hliney,'--',color='red',linewidth=2)\n",
    "        else:\n",
    "            plt.plot (hlinex,hliney,'--',color='grey',linewidth=2)\n",
    "            plt.text(260, 1.4*JdarkOper, \"Dark\" ,color='grey',fontsize=12)\n",
    "\n",
    "        if OperT < 250:\n",
    "            plt.text(OperT+5, 2e-14, \"Temp= \" + str(round(OperT)),color='grey',fontsize=12)\n",
    "        else:\n",
    "            plt.text(255, 2e-14, \"Temp = \" + str(round(OperT)),color='grey',fontsize=12)\n",
    "        plt.yscale('log')\n",
    "        plt.axis([50,max(Temp),1e-14,1]) \n",
    "    \n",
    "        # Major ticks every 20, minor ticks every 5\n",
    "        major_xticks = np.arange(20, max(Temp), 50)\n",
    "        minor_xticks = np.arange(20, max(Temp), 10)\n",
    "        ax2.set_xticks(major_xticks)\n",
    "        ax2.set_xticks(minor_xticks, minor=True)\n",
    "\n",
    "        # And a corresponding grid\n",
    "        ax2.grid(which='minor', alpha=0.40)\n",
    "        ax2.grid(which='major', alpha=0.80)\n",
    "\n",
    "        plt.xlabel('Detector Temperature [K]')\n",
    "        plt.ylabel('Current Density [A/cm2]')\n",
    "        plt.legend()   \n",
    "    \n",
    "    \n",
    "style = {'description_width': 'initial'} \n",
    "\n",
    "# Main interact() call\n",
    "interact(plot_func,\n",
    "    WL1 = widgets.FloatText(value=2,step=0.25, description=r'Band cut-on $\\lambda_{\\rm 1}$ (um)', style=style), # [um], Cut-on Wavelength um\n",
    "    WL2 = widgets.FloatText(value=6,step=0.25, description=r'Band cut-off $\\lambda_{\\rm 2}$ (um)', style=style), # [um], Cut-off Wavelength um\n",
    "    Flux = widgets.FloatText(value=1.7e9, step=1000, description=r'Photon Flux (photon/sec)', style=style), # [photon/s], Photon Flux on Detector\n",
    "    pitch = widgets.FloatText(value=20, min=1, max=40, step=1, description='Pixel Pitch (um)', style=style), # [%], Pitch\n",
    "    ScaleFactor1 = widgets.FloatText(value=1, min=-2, max=2, step=0.1, description='Dark Current Scale Factor Term 1 (unitless):', style=style,continuous_update=False), # Ratio between dark current and Rule 22 first term\n",
    "    ScaleFactor2 = widgets.FloatText(value=1, min=-2, max=2, step=0.1, description='Dark Current Scale Factor Term 2 (unitless):', style=style,continuous_update=False), # Ratio between dark current and Rule 22 second term\n",
    "    QE = widgets.FloatText(value=0.80, min=0.1, max=100, step=0.1, description='Quantum Efficiency (unitless)',style=style,continuous_update=False), # [%], Quantum Efficiency\n",
    "    OperT =  FloatSlider(value=120, min=20, max=330, step=1, description='Operating Temp (K)', layout=Layout(width='600px'), style=style,continuous_update=False)\n",
    "    )"
   ]
  },
  {
   "cell_type": "markdown",
   "metadata": {},
   "source": [
    "Code by: Minh Nguyen HRL, Modified by Nicholas Kotas @ UArizona, \"Rule'22\" Algorithm by Bill Tennant et al "
   ]
  }
 ],
 "metadata": {
  "kernelspec": {
   "display_name": "Python 3 (ipykernel)",
   "language": "python",
   "name": "python3"
  },
  "language_info": {
   "codemirror_mode": {
    "name": "ipython",
    "version": 3
   },
   "file_extension": ".py",
   "mimetype": "text/x-python",
   "name": "python",
   "nbconvert_exporter": "python",
   "pygments_lexer": "ipython3",
   "version": "3.11.5"
  }
 },
 "nbformat": 4,
 "nbformat_minor": 4
}
