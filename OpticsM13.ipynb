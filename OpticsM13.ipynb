{
 "cells": [
  {
   "attachments": {},
   "cell_type": "markdown",
   "metadata": {},
   "source": [
    "# Optics Main page  (v1.3d)"
   ]
  },
  {
   "attachments": {
    "Optic1c.PNG": {
     "image/png": "[encoded data removed]"
    }
   },
   "cell_type": "markdown",
   "metadata": {},
   "source": [
    "![Optic1c.PNG](attachment:Optic1c.PNG)"
   ]
  },
  {
   "cell_type": "code",
   "execution_count": 1,
   "metadata": {},
   "outputs": [
    {
     "data": {
      "application/vnd.jupyter.widget-view+json": {
       "model_id": "73ce40e2e2ce489abcb590d7b66f8fcd",
       "version_major": 2,
       "version_minor": 0
      },
      "text/plain": [
       "interactive(children=(FloatText(value=3.0, description='Wavelength 1 (um)', step=0.25, style=DescriptionStyle(…"
      ]
     },
     "metadata": {},
     "output_type": "display_data"
    },
    {
     "data": {
      "text/plain": [
       "<function __main__.plot_func(wvl1, wvl2, Horz, Vert, p, EFL, Dia)>"
      ]
     },
     "execution_count": 1,
     "metadata": {},
     "output_type": "execute_result"
    }
   ],
   "source": [
    "import math\n",
    "from ipywidgets import *\n",
    "import numpy as np\n",
    "import matplotlib.image as mpimg\n",
    "#from decimal import Decimal\n",
    "#import matplotlib.image as mpimg\n",
    "import matplotlib.pyplot as plt\n",
    "import matplotlib.gridspec as gridspec\n",
    "%matplotlib inline\n",
    "\n",
    "pi=math.pi\n",
    "img2 = mpimg.imread('optic2.PNG')\n",
    "img3 = mpimg.imread('optic3.png')\n",
    "img4 = mpimg.imread('optic4.png')\n",
    "img5 = mpimg.imread('optic5.png')\n",
    "\n",
    "\n",
    "def plot_func(wvl1,wvl2,Horz,Vert,p,EFL,Dia):\n",
    "    \n",
    "        #validate inputs\n",
    "        skip = False        \n",
    "        if wvl1 <= 0:\n",
    "            skip = True\n",
    "        elif wvl2<= 0:\n",
    "            skip = True\n",
    "        elif Horz <=0: \n",
    "            skip = True\n",
    "        elif Vert <=0:\n",
    "            skip = True\n",
    "        elif p <=0:\n",
    "            skip = True\n",
    "        elif EFL <=0:\n",
    "            skip = True\n",
    "        elif Dia <=0:\n",
    "            skip = True\n",
    "        else:\n",
    "            skip = False\n",
    "\n",
    "        if skip == True:\n",
    "            print ('Invalid Inputs')\n",
    "            \n",
    "        else:\n",
    "\n",
    "                        \n",
    "            theta = ((p*1e-6)/EFL) #ifov in radians\n",
    "            flvw = Horz*theta \n",
    "            ChipW=Horz*p*1e-6 #chip width\n",
    "            ChipH=Vert*p*1e-6 #chip hight\n",
    "            ChipArea=ChipW*ChipH \n",
    "\n",
    "            afov = (180/pi)*2*np.arctan((ChipW)/(2*EFL))\n",
    "            ifov = (afov*pi)/(Horz*180)\n",
    "            va = ifov\n",
    "            Fn=EFL/Dia \n",
    "            bs = 2.44*(wvl1+wvl2)*Fn*1e-6/2 #blur spot\n",
    "            bsnp = (bs/(p*1e-6))  #blur spot number of pixels\n",
    "\n",
    "            #defines slider operation\n",
    "            print('(f/# slider sweeps Focal Length, with Apeture and Chip Width Constant)')\n",
    "\n",
    "            CalcResults = widgets.HTML(value = \"<p style='font-size:16pt'><b>Calculated Results</b></p>\")\n",
    "            display(CalcResults)\n",
    "            print ('F/# = ',round(Fn,4),'  blur spot = %5.4e' %(bs), 'Meters which is ', round(bsnp,2) , 'pixels')  \n",
    "            print ('Detector Chip width =',round(ChipW*1000,2),'mm   Chip height =',round(ChipH*1000,2),'mm  Chip Area = ',round(ChipArea*1e6,4),'mm^2')\n",
    "            print ('Horizontal Field Of View:', round(afov,2),' Degrees    or: ', round(afov*pi/180,4),'Radians' )\n",
    "            print ('Instantaneous  FOV:', round(afov/Horz,6),' Degrees   or: ', round(ifov,6),' Radians')\n",
    "            #print ('Visual Acuity = ', 777, 'Numerical Aperture =', 777)\n",
    "            #print ('paraxial=',round(theta,6)')')\n",
    "\n",
    "            #defines slider operation\n",
    "            print(' - - - - - - - - - - - - - - - - - - - - - - - - - - - - - - - - - - -   ')\n",
    "            print('(f/# slider sweeps Focal Length, with Apeture and Chip Width Constant)')\n",
    "            \n",
    "            def slider_func(FNO):\n",
    "                \n",
    "                plt.style.use('classic')\n",
    "                fig=plt.figure(1,figsize=(16,8));\n",
    "                gs = gridspec.GridSpec(1, 2,width_ratios=[1.75,1])        \n",
    "                ax1=plt.subplot(gs[1]) \n",
    "                plt.title('Blur Spot vs Pixel Size')\n",
    "                plt.axis([0, 1.7, 0, 1.7])\n",
    "                plt.axis('off')\n",
    "                ax1.imshow(img2, extent=[0, 1.7, 0, 1.7])\n",
    "                ax1.imshow(img4, extent=[0.2, 0.2 + bsnp*0.1, 1.7/2 - (bsnp*0.1)/2 , 1.7/2 + (bsnp*0.1)/2],alpha=0.75)\n",
    "                plt.text(0.2,1.5,'Blur Spot = ' + str(round(bsnp,2)),color='red') \n",
    "                Bbs = 2.44*(wvl1+wvl2)*FNO*1e-6/2 #\"BLUE blur spot\n",
    "                Bbsnp = (Bbs/(p*1e-6))  #BLUE blur spot number of pixels\n",
    "                ax1.imshow(img5, extent=[1.5-Bbsnp*0.1 , 1.5, 1.7/2 - (Bbsnp*0.1)/2 , 1.7/2 + (Bbsnp*0.1)/2],alpha=0.5)\n",
    "                plt.text(1.0,1.5,'Blur Spot = ' + str(round(Bbsnp,2)),color='blue')\n",
    "                plt.text(0.575,0.28,'Width = ' + str(round(ChipW*1000,2)) + '(mm)', color='black')\n",
    "                plt.text(0.03,0.65,'Height = ' + str(round(ChipH*1000,2)) +'(mm)', color='black', rotation=90)\n",
    "\n",
    "                #plt.style.use('dark_background')\n",
    "                ax2=plt.subplot(gs[0])\n",
    "                plt.grid(True)\n",
    "                x1=[0,20]\n",
    "                y1=[0,20*afov*pi/(180*2)]\n",
    "                y1b=[0,-20*afov*pi/(180*2)]\n",
    "                plt.axis([0, 10, -5, 5])\n",
    "                plt.title('Field of View vs f/#')\n",
    "                ax2.plot(x1,y1,color='red')\n",
    "                ax2.plot(x1,y1b,color='red')\n",
    "                plt.text(1,-3,'f/# = ' + str(round(Fn,2)) + '    H-FOV =' + str(round(afov,2)),color='red')\n",
    "                plt.text(1,-3.35,'Input Values',color='red')\n",
    "                y2=[0,20*np.arctan(ChipW/(FNO*2*Dia))]\n",
    "                y2b=[0,-20*np.arctan(ChipW/(FNO*2*Dia))]\n",
    "                ax2.plot(x1,y2,color='blue')\n",
    "                ax2.plot(x1,y2b,color='blue')\n",
    "                BFOV=(180/pi)*2*np.arctan(ChipW/(2*FNO*Dia))\n",
    "                plt.text(1,4.05,'f/# = ' + str(round(FNO,2)) + '    H-FOV =' + str(round(BFOV,2)),color='blue')\n",
    "                plt.text(1,3.7,'Slider Values',color='blue')\n",
    "                plt.fill_between(x1,y2,y2b, facecolor='blue',alpha=0.4)\n",
    "                ax2.imshow(img3, extent=[0, .25, -1.5, 1.5])\n",
    "\n",
    "            interact(slider_func, FNO = widgets.FloatSlider(value=2, min=.25, max=10, step=0.25,description = 'f/# (unitless)',layout=Layout(width='550px'),continuous_update=True))\n",
    "\n",
    "            \n",
    "# Description width style\n",
    "style1 = {'description_width': 'initial'} \n",
    "    \n",
    "interact(plot_func, \n",
    "             wvl1 = widgets.FloatText(value=3, step=0.25, description = 'Wavelength 1 (um)',style=style1), \n",
    "             wvl2 = widgets.FloatText(value=5, step=0.25, description = 'Wavelength 2 (um)',style=style1),\n",
    "             Horz = widgets.FloatText(value=1280, step=1, description = 'Horizontal Pixels (#)',style=style1),\n",
    "             Vert = widgets.FloatText(value=720, step=1, description = 'Vertical Pixels (#)',style=style1),\n",
    "             p = widgets.FloatText(value=20, step=1, description = 'Detector pitch (um)',style=style1),\n",
    "             EFL = widgets.FloatText(value=0.10, step=0.05, description = 'Focal Length (m)',style=style1),\n",
    "             Dia = widgets.FloatText(value=0.015, step=0.05, description = 'Lens Diameter/Aperture (m)',style=style1),         \n",
    "             )"
   ]
  },
  {
   "cell_type": "code",
   "execution_count": null,
   "metadata": {},
   "outputs": [],
   "source": []
  }
 ],
 "metadata": {
  "kernelspec": {
   "display_name": "Python 3 (ipykernel)",
   "language": "python",
   "name": "python3"
  },
  "language_info": {
   "codemirror_mode": {
    "name": "ipython",
    "version": 3
   },
   "file_extension": ".py",
   "mimetype": "text/x-python",
   "name": "python",
   "nbconvert_exporter": "python",
   "pygments_lexer": "ipython3",
   "version": "3.11.5"
  }
 },
 "nbformat": 4,
 "nbformat_minor": 2
}
